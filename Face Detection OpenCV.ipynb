{
 "cells": [
  {
   "cell_type": "code",
   "execution_count": 1,
   "metadata": {},
   "outputs": [],
   "source": [
    "import cv2\n",
    "import dlib"
   ]
  },
  {
   "cell_type": "code",
   "execution_count": 2,
   "metadata": {},
   "outputs": [],
   "source": [
    "# face = cv2.CascadeClassifier(r'D:\\New folder\\ML\\Minor\\face.xml') 88mb"
   ]
  },
  {
   "cell_type": "code",
   "execution_count": null,
   "metadata": {},
   "outputs": [],
   "source": []
  },
  {
   "cell_type": "code",
   "execution_count": 3,
   "metadata": {},
   "outputs": [],
   "source": [
    "det = dlib.get_frontal_face_detector() #check algo\n",
    "cap = cv2.VideoCapture(0) #webcam\n",
    "while True: #infinte loop\n",
    "    _, frame = cap.read()\n",
    "    \n",
    "    gray = cv2.cvtColor(frame, cv2.COLOR_BGR2GRAY) #BnW\n",
    "    #gray image -> np array -> avg and save in two dim. -> 2d images = BnW\n",
    "    faces = det(gray) #list of faces\n",
    "    \n",
    "#     faces = face.detectMultiScale(gray,scaleFactor=1.1,minNeighbors=5,minSize=(30, 30))\n",
    "    \n",
    "    for face in faces:\n",
    "        x1,y1 = face.left(),face.top()\n",
    "        x2,y2 = face.right(),face.bottom()\n",
    "        \n",
    "        cv2.rectangle(frame,(x1,y1),(x2,y2),(0,225,0),2)\n",
    "        \n",
    "    cv2.imshow('face', frame)\n",
    "    \n",
    "    if cv2.waitKey(30) & 0xFF == ord('q'):\n",
    "        break\n",
    "    \n",
    "#     if k==27:\n",
    "#         break\n",
    "        \n",
    "cap.release()\n",
    "\n",
    "cv2.destroyAllWindows()"
   ]
  },
  {
   "cell_type": "code",
   "execution_count": null,
   "metadata": {},
   "outputs": [],
   "source": []
  }
 ],
 "metadata": {
  "kernelspec": {
   "display_name": "Python 3",
   "language": "python",
   "name": "python3"
  },
  "language_info": {
   "codemirror_mode": {
    "name": "ipython",
    "version": 3
   },
   "file_extension": ".py",
   "mimetype": "text/x-python",
   "name": "python",
   "nbconvert_exporter": "python",
   "pygments_lexer": "ipython3",
   "version": "3.7.4"
  }
 },
 "nbformat": 4,
 "nbformat_minor": 2
}
